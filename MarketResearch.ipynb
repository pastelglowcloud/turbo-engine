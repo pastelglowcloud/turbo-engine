{
  "nbformat": 4,
  "nbformat_minor": 0,
  "metadata": {
    "colab": {
      "name": "MarketResearch.ipynb",
      "provenance": [],
      "authorship_tag": "ABX9TyMhKLoShfYBKUcVGq6Z79OV"
    },
    "kernelspec": {
      "name": "python3",
      "display_name": "Python 3"
    },
    "language_info": {
      "name": "python"
    }
  },
  "cells": [
    {
      "cell_type": "markdown",
      "metadata": {
        "id": "ndlKtgksjCDb"
      },
      "source": [
        "# ***Data Generation***"
      ]
    },
    {
      "cell_type": "code",
      "metadata": {
        "id": "jBnQCFSLwSFo"
      },
      "source": [
        "import pandas as pd\n",
        "import numpy as np\n",
        "N_STORES = 20\n",
        "N_WEEKS = 104\n",
        "columns = ('store_num', 'year', 'week', 'p1_sales', 'p2_sales', 'p1_price', 'p2_price', 'p1_promo', 'p2_promo', 'country')\n",
        "n_rows = N_STORES * N_WEEKS\n",
        "store_sales = pd.DataFrame(np.empty(shape=(n_rows, 10)), columns=columns)\n",
        "store_numbers = range(101, 101 + N_STORES)\n",
        "store_country = dict(zip(store_numbers,['USA', 'USA', 'USA', 'DEU', 'DEU', 'DEU', 'DEU', 'DEU', 'GBR', 'GBR', 'GBR', 'BRA', 'BRA', 'JPN', 'JPN', 'JPN', 'JPN', 'AUS', 'CHN', 'CHN']))\n",
        "i = 0\n",
        "for store_num in store_numbers:\n",
        "  for year in [1, 2]:\n",
        "    for week in range(1, 53):\n",
        "      store_sales.loc[i, 'store_num'] = store_num\n",
        "      store_sales.loc[i, 'year'] = year\n",
        "      store_sales.loc[i, 'week'] = week\n",
        "      store_sales.loc[i, 'country'] = store_country[store_num]\n",
        "      i += 1\n",
        "store_sales.country = store_sales.country.astype(pd.CategoricalDtype())\n",
        "store_sales.p1_promo = np.random.binomial(n=1, p=0.1, size=n_rows)\n",
        "store_sales.p2_promo = np.random.binomial(n=1, p=0.15, size=n_rows)\n",
        "store_sales.p1_price = np.random.choice([2.19, 2.29, 2.49, 2.79, 2.99], size=n_rows)\n",
        "store_sales.p2_price = np.random.choice([2.29, 2.49, 2.59, 2.99, 3.19], size=n_rows)\n",
        "sales_p1 = np.random.poisson(lam=120, size=n_rows)\n",
        "sales_p2 = np.random.poisson(lam=100, size=n_rows)\n",
        "log_p1_price = np.log(store_sales.p1_price)\n",
        "log_p2_price = np.log(store_sales.p2_price)\n",
        "sales_p1 = sales_p1 * log_p2_price/log_p1_price\n",
        "sales_p2 = sales_p2 * log_p1_price/log_p2_price\n",
        "store_sales.p1_sales = np.floor(sales_p1 * (1 + store_sales.p1_promo * 0.3))\n",
        "store_sales.p2_sales = np.floor(sales_p2 * (1 + store_sales.p2_promo * 0.4))"
      ],
      "execution_count": null,
      "outputs": []
    },
    {
      "cell_type": "markdown",
      "metadata": {
        "id": "UTqSQPZgjTjh"
      },
      "source": [
        "# ***Summarizing Variables***\n"
      ]
    },
    {
      "cell_type": "code",
      "metadata": {
        "colab": {
          "base_uri": "https://localhost:8080/"
        },
        "id": "zbvL5DsnjgQr",
        "outputId": "402f64e9-158b-4d46-9c01-3aff4a4f93d2"
      },
      "source": [
        "#group by columns\n",
        "store_sales.groupby('store_num').p1_sales.mean()"
      ],
      "execution_count": null,
      "outputs": [
        {
          "output_type": "execute_result",
          "data": {
            "text/plain": [
              "store_num\n",
              "101.0    136.673077\n",
              "102.0    131.605769\n",
              "103.0    129.846154\n",
              "104.0    136.701923\n",
              "105.0    131.653846\n",
              "106.0    134.923077\n",
              "107.0    134.913462\n",
              "108.0    133.307692\n",
              "109.0    131.865385\n",
              "110.0    129.980769\n",
              "111.0    137.038462\n",
              "112.0    133.048077\n",
              "113.0    135.913462\n",
              "114.0    134.019231\n",
              "115.0    135.615385\n",
              "116.0    131.721154\n",
              "117.0    132.961538\n",
              "118.0    132.990385\n",
              "119.0    131.961538\n",
              "120.0    127.230769\n",
              "Name: p1_sales, dtype: float64"
            ]
          },
          "metadata": {
            "tags": []
          },
          "execution_count": 3
        }
      ]
    },
    {
      "cell_type": "code",
      "metadata": {
        "colab": {
          "base_uri": "https://localhost:8080/"
        },
        "id": "D0B-r-EDj2iP",
        "outputId": "7630d01d-a49d-4874-9f15-2afbd0950b3e"
      },
      "source": [
        "#group by multiple factors\n",
        "store_sales.groupby(['store_num', 'year']).p1_sales.mean()"
      ],
      "execution_count": null,
      "outputs": [
        {
          "output_type": "execute_result",
          "data": {
            "text/plain": [
              "store_num  year\n",
              "101.0      1.0     136.807692\n",
              "           2.0     136.538462\n",
              "102.0      1.0     129.576923\n",
              "           2.0     133.634615\n",
              "103.0      1.0     128.384615\n",
              "           2.0     131.307692\n",
              "104.0      1.0     143.134615\n",
              "           2.0     130.269231\n",
              "105.0      1.0     133.692308\n",
              "           2.0     129.615385\n",
              "106.0      1.0     135.134615\n",
              "           2.0     134.711538\n",
              "107.0      1.0     135.211538\n",
              "           2.0     134.615385\n",
              "108.0      1.0     135.192308\n",
              "           2.0     131.423077\n",
              "109.0      1.0     129.519231\n",
              "           2.0     134.211538\n",
              "110.0      1.0     129.807692\n",
              "           2.0     130.153846\n",
              "111.0      1.0     138.692308\n",
              "           2.0     135.384615\n",
              "112.0      1.0     130.903846\n",
              "           2.0     135.192308\n",
              "113.0      1.0     136.692308\n",
              "           2.0     135.134615\n",
              "114.0      1.0     133.153846\n",
              "           2.0     134.884615\n",
              "115.0      1.0     135.557692\n",
              "           2.0     135.673077\n",
              "116.0      1.0     126.480769\n",
              "           2.0     136.961538\n",
              "117.0      1.0     132.307692\n",
              "           2.0     133.615385\n",
              "118.0      1.0     130.730769\n",
              "           2.0     135.250000\n",
              "119.0      1.0     130.019231\n",
              "           2.0     133.903846\n",
              "120.0      1.0     130.057692\n",
              "           2.0     124.403846\n",
              "Name: p1_sales, dtype: float64"
            ]
          },
          "metadata": {
            "tags": []
          },
          "execution_count": 4
        }
      ]
    },
    {
      "cell_type": "code",
      "metadata": {
        "colab": {
          "base_uri": "https://localhost:8080/",
          "height": 708
        },
        "id": "WLfNeGRvkP_b",
        "outputId": "2707a540-5d98-4c4f-8117-30a3ee0dcf4c"
      },
      "source": [
        "#pivot bro\n",
        "store_sales.groupby(['store_num', 'year']).p1_sales.mean().unstack()"
      ],
      "execution_count": null,
      "outputs": [
        {
          "output_type": "execute_result",
          "data": {
            "text/html": [
              "<div>\n",
              "<style scoped>\n",
              "    .dataframe tbody tr th:only-of-type {\n",
              "        vertical-align: middle;\n",
              "    }\n",
              "\n",
              "    .dataframe tbody tr th {\n",
              "        vertical-align: top;\n",
              "    }\n",
              "\n",
              "    .dataframe thead th {\n",
              "        text-align: right;\n",
              "    }\n",
              "</style>\n",
              "<table border=\"1\" class=\"dataframe\">\n",
              "  <thead>\n",
              "    <tr style=\"text-align: right;\">\n",
              "      <th>year</th>\n",
              "      <th>1.0</th>\n",
              "      <th>2.0</th>\n",
              "    </tr>\n",
              "    <tr>\n",
              "      <th>store_num</th>\n",
              "      <th></th>\n",
              "      <th></th>\n",
              "    </tr>\n",
              "  </thead>\n",
              "  <tbody>\n",
              "    <tr>\n",
              "      <th>101.0</th>\n",
              "      <td>136.807692</td>\n",
              "      <td>136.538462</td>\n",
              "    </tr>\n",
              "    <tr>\n",
              "      <th>102.0</th>\n",
              "      <td>129.576923</td>\n",
              "      <td>133.634615</td>\n",
              "    </tr>\n",
              "    <tr>\n",
              "      <th>103.0</th>\n",
              "      <td>128.384615</td>\n",
              "      <td>131.307692</td>\n",
              "    </tr>\n",
              "    <tr>\n",
              "      <th>104.0</th>\n",
              "      <td>143.134615</td>\n",
              "      <td>130.269231</td>\n",
              "    </tr>\n",
              "    <tr>\n",
              "      <th>105.0</th>\n",
              "      <td>133.692308</td>\n",
              "      <td>129.615385</td>\n",
              "    </tr>\n",
              "    <tr>\n",
              "      <th>106.0</th>\n",
              "      <td>135.134615</td>\n",
              "      <td>134.711538</td>\n",
              "    </tr>\n",
              "    <tr>\n",
              "      <th>107.0</th>\n",
              "      <td>135.211538</td>\n",
              "      <td>134.615385</td>\n",
              "    </tr>\n",
              "    <tr>\n",
              "      <th>108.0</th>\n",
              "      <td>135.192308</td>\n",
              "      <td>131.423077</td>\n",
              "    </tr>\n",
              "    <tr>\n",
              "      <th>109.0</th>\n",
              "      <td>129.519231</td>\n",
              "      <td>134.211538</td>\n",
              "    </tr>\n",
              "    <tr>\n",
              "      <th>110.0</th>\n",
              "      <td>129.807692</td>\n",
              "      <td>130.153846</td>\n",
              "    </tr>\n",
              "    <tr>\n",
              "      <th>111.0</th>\n",
              "      <td>138.692308</td>\n",
              "      <td>135.384615</td>\n",
              "    </tr>\n",
              "    <tr>\n",
              "      <th>112.0</th>\n",
              "      <td>130.903846</td>\n",
              "      <td>135.192308</td>\n",
              "    </tr>\n",
              "    <tr>\n",
              "      <th>113.0</th>\n",
              "      <td>136.692308</td>\n",
              "      <td>135.134615</td>\n",
              "    </tr>\n",
              "    <tr>\n",
              "      <th>114.0</th>\n",
              "      <td>133.153846</td>\n",
              "      <td>134.884615</td>\n",
              "    </tr>\n",
              "    <tr>\n",
              "      <th>115.0</th>\n",
              "      <td>135.557692</td>\n",
              "      <td>135.673077</td>\n",
              "    </tr>\n",
              "    <tr>\n",
              "      <th>116.0</th>\n",
              "      <td>126.480769</td>\n",
              "      <td>136.961538</td>\n",
              "    </tr>\n",
              "    <tr>\n",
              "      <th>117.0</th>\n",
              "      <td>132.307692</td>\n",
              "      <td>133.615385</td>\n",
              "    </tr>\n",
              "    <tr>\n",
              "      <th>118.0</th>\n",
              "      <td>130.730769</td>\n",
              "      <td>135.250000</td>\n",
              "    </tr>\n",
              "    <tr>\n",
              "      <th>119.0</th>\n",
              "      <td>130.019231</td>\n",
              "      <td>133.903846</td>\n",
              "    </tr>\n",
              "    <tr>\n",
              "      <th>120.0</th>\n",
              "      <td>130.057692</td>\n",
              "      <td>124.403846</td>\n",
              "    </tr>\n",
              "  </tbody>\n",
              "</table>\n",
              "</div>"
            ],
            "text/plain": [
              "year              1.0         2.0\n",
              "store_num                        \n",
              "101.0      136.807692  136.538462\n",
              "102.0      129.576923  133.634615\n",
              "103.0      128.384615  131.307692\n",
              "104.0      143.134615  130.269231\n",
              "105.0      133.692308  129.615385\n",
              "106.0      135.134615  134.711538\n",
              "107.0      135.211538  134.615385\n",
              "108.0      135.192308  131.423077\n",
              "109.0      129.519231  134.211538\n",
              "110.0      129.807692  130.153846\n",
              "111.0      138.692308  135.384615\n",
              "112.0      130.903846  135.192308\n",
              "113.0      136.692308  135.134615\n",
              "114.0      133.153846  134.884615\n",
              "115.0      135.557692  135.673077\n",
              "116.0      126.480769  136.961538\n",
              "117.0      132.307692  133.615385\n",
              "118.0      130.730769  135.250000\n",
              "119.0      130.019231  133.903846\n",
              "120.0      130.057692  124.403846"
            ]
          },
          "metadata": {
            "tags": []
          },
          "execution_count": 5
        }
      ]
    },
    {
      "cell_type": "code",
      "metadata": {
        "colab": {
          "base_uri": "https://localhost:8080/"
        },
        "id": "0v7p6XEOkbRJ",
        "outputId": "2798e3c6-49e7-48ce-da6c-ed8dc7c85d5b"
      },
      "source": [
        "p1_sales_by_country = store_sales.groupby(['country']).p1_sales.sum()\n",
        "p1_sales_by_country"
      ],
      "execution_count": null,
      "outputs": [
        {
          "output_type": "execute_result",
          "data": {
            "text/plain": [
              "country\n",
              "AUS    13831.0\n",
              "BRA    27972.0\n",
              "CHN    26956.0\n",
              "DEU    69836.0\n",
              "GBR    41484.0\n",
              "JPN    55569.0\n",
              "USA    41405.0\n",
              "Name: p1_sales, dtype: float64"
            ]
          },
          "metadata": {
            "tags": []
          },
          "execution_count": 6
        }
      ]
    },
    {
      "cell_type": "markdown",
      "metadata": {
        "id": "-cKb6AM1lgiX"
      },
      "source": [
        "## Discrete Variables"
      ]
    },
    {
      "cell_type": "code",
      "metadata": {
        "id": "v68eRyWEmbuH"
      },
      "source": [
        "store_sales.p1_price.value_counts()\n",
        "p1_table_0 = store_sales.p1_price.value_counts()"
      ],
      "execution_count": null,
      "outputs": []
    },
    {
      "cell_type": "code",
      "metadata": {
        "colab": {
          "base_uri": "https://localhost:8080/"
        },
        "id": "qJu9B6jMnhuC",
        "outputId": "30f78ab3-c8ae-4b7e-b245-9765a6774136"
      },
      "source": [
        "p1_table_0.plot.bar()\n",
        "pd.crosstab(store_sales.p1_promo, store_sales.p1_price)\n",
        "store_sales.groupby('p1_promo').p1_price.value_counts().unstack()"
      ],
      "execution_count": null,
      "outputs": [
        {
          "output_type": "execute_result",
          "data": {
            "text/html": [
              "<div>\n",
              "<style scoped>\n",
              "    .dataframe tbody tr th:only-of-type {\n",
              "        vertical-align: middle;\n",
              "    }\n",
              "\n",
              "    .dataframe tbody tr th {\n",
              "        vertical-align: top;\n",
              "    }\n",
              "\n",
              "    .dataframe thead th {\n",
              "        text-align: right;\n",
              "    }\n",
              "</style>\n",
              "<table border=\"1\" class=\"dataframe\">\n",
              "  <thead>\n",
              "    <tr style=\"text-align: right;\">\n",
              "      <th>p1_price</th>\n",
              "      <th>2.19</th>\n",
              "      <th>2.29</th>\n",
              "      <th>2.49</th>\n",
              "      <th>2.79</th>\n",
              "      <th>2.99</th>\n",
              "    </tr>\n",
              "    <tr>\n",
              "      <th>p1_promo</th>\n",
              "      <th></th>\n",
              "      <th></th>\n",
              "      <th></th>\n",
              "      <th></th>\n",
              "      <th></th>\n",
              "    </tr>\n",
              "  </thead>\n",
              "  <tbody>\n",
              "    <tr>\n",
              "      <th>0</th>\n",
              "      <td>390</td>\n",
              "      <td>380</td>\n",
              "      <td>372</td>\n",
              "      <td>344</td>\n",
              "      <td>398</td>\n",
              "    </tr>\n",
              "    <tr>\n",
              "      <th>1</th>\n",
              "      <td>46</td>\n",
              "      <td>45</td>\n",
              "      <td>34</td>\n",
              "      <td>39</td>\n",
              "      <td>32</td>\n",
              "    </tr>\n",
              "  </tbody>\n",
              "</table>\n",
              "</div>"
            ],
            "text/plain": [
              "p1_price  2.19  2.29  2.49  2.79  2.99\n",
              "p1_promo                              \n",
              "0          390   380   372   344   398\n",
              "1           46    45    34    39    32"
            ]
          },
          "metadata": {
            "tags": []
          },
          "execution_count": 8
        },
        {
          "output_type": "display_data",
          "data": {
            "image/png": "[encoded data removed]",
            "text/plain": [
              "<Figure size 432x288 with 1 Axes>"
            ]
          },
          "metadata": {
            "tags": [],
            "needs_background": "light"
          }
        }
      ]
    },
    {
      "cell_type": "code",
      "metadata": {
        "colab": {
          "base_uri": "https://localhost:8080/"
        },
        "id": "-O0diqXtnmoz",
        "outputId": "5bd5ad5b-94a2-4014-f598-0bf29a7c557d"
      },
      "source": [
        "store_sales.groupby(['p1_promo', 'country']).p1_price.mean().unstack()"
      ],
      "execution_count": null,
      "outputs": [
        {
          "output_type": "execute_result",
          "data": {
            "text/html": [
              "<div>\n",
              "<style scoped>\n",
              "    .dataframe tbody tr th:only-of-type {\n",
              "        vertical-align: middle;\n",
              "    }\n",
              "\n",
              "    .dataframe tbody tr th {\n",
              "        vertical-align: top;\n",
              "    }\n",
              "\n",
              "    .dataframe thead th {\n",
              "        text-align: right;\n",
              "    }\n",
              "</style>\n",
              "<table border=\"1\" class=\"dataframe\">\n",
              "  <thead>\n",
              "    <tr style=\"text-align: right;\">\n",
              "      <th>country</th>\n",
              "      <th>AUS</th>\n",
              "      <th>BRA</th>\n",
              "      <th>CHN</th>\n",
              "      <th>DEU</th>\n",
              "      <th>GBR</th>\n",
              "      <th>JPN</th>\n",
              "      <th>USA</th>\n",
              "    </tr>\n",
              "    <tr>\n",
              "      <th>p1_promo</th>\n",
              "      <th></th>\n",
              "      <th></th>\n",
              "      <th></th>\n",
              "      <th></th>\n",
              "      <th></th>\n",
              "      <th></th>\n",
              "      <th></th>\n",
              "    </tr>\n",
              "  </thead>\n",
              "  <tbody>\n",
              "    <tr>\n",
              "      <th>0</th>\n",
              "      <td>2.535263</td>\n",
              "      <td>2.554481</td>\n",
              "      <td>2.537368</td>\n",
              "      <td>2.560851</td>\n",
              "      <td>2.539481</td>\n",
              "      <td>2.542055</td>\n",
              "      <td>2.549932</td>\n",
              "    </tr>\n",
              "    <tr>\n",
              "      <th>1</th>\n",
              "      <td>2.590000</td>\n",
              "      <td>2.386000</td>\n",
              "      <td>2.534444</td>\n",
              "      <td>2.600000</td>\n",
              "      <td>2.442174</td>\n",
              "      <td>2.548824</td>\n",
              "      <td>2.410000</td>\n",
              "    </tr>\n",
              "  </tbody>\n",
              "</table>\n",
              "</div>"
            ],
            "text/plain": [
              "country        AUS       BRA       CHN       DEU       GBR       JPN       USA\n",
              "p1_promo                                                                      \n",
              "0         2.535263  2.554481  2.537368  2.560851  2.539481  2.542055  2.549932\n",
              "1         2.590000  2.386000  2.534444  2.600000  2.442174  2.548824  2.410000"
            ]
          },
          "metadata": {
            "tags": []
          },
          "execution_count": 9
        }
      ]
    },
    {
      "cell_type": "code",
      "metadata": {
        "colab": {
          "base_uri": "https://localhost:8080/"
        },
        "id": "Z0iGx1kSoMP-",
        "outputId": "20d9e12e-49b2-4e55-cc11-2cc73b22c2cc"
      },
      "source": [
        "p1_table_1 = store_sales.groupby('p1_promo').p1_price.value_counts()\n",
        "p1_table_1 = p1_table_1.unstack()\n",
        "p1_table_1.div(p1_table_0)"
      ],
      "execution_count": null,
      "outputs": [
        {
          "output_type": "execute_result",
          "data": {
            "text/html": [
              "<div>\n",
              "<style scoped>\n",
              "    .dataframe tbody tr th:only-of-type {\n",
              "        vertical-align: middle;\n",
              "    }\n",
              "\n",
              "    .dataframe tbody tr th {\n",
              "        vertical-align: top;\n",
              "    }\n",
              "\n",
              "    .dataframe thead th {\n",
              "        text-align: right;\n",
              "    }\n",
              "</style>\n",
              "<table border=\"1\" class=\"dataframe\">\n",
              "  <thead>\n",
              "    <tr style=\"text-align: right;\">\n",
              "      <th></th>\n",
              "      <th>2.19</th>\n",
              "      <th>2.29</th>\n",
              "      <th>2.49</th>\n",
              "      <th>2.79</th>\n",
              "      <th>2.99</th>\n",
              "    </tr>\n",
              "    <tr>\n",
              "      <th>p1_promo</th>\n",
              "      <th></th>\n",
              "      <th></th>\n",
              "      <th></th>\n",
              "      <th></th>\n",
              "      <th></th>\n",
              "    </tr>\n",
              "  </thead>\n",
              "  <tbody>\n",
              "    <tr>\n",
              "      <th>0</th>\n",
              "      <td>0.894495</td>\n",
              "      <td>0.894118</td>\n",
              "      <td>0.916256</td>\n",
              "      <td>0.898172</td>\n",
              "      <td>0.925581</td>\n",
              "    </tr>\n",
              "    <tr>\n",
              "      <th>1</th>\n",
              "      <td>0.105505</td>\n",
              "      <td>0.105882</td>\n",
              "      <td>0.083744</td>\n",
              "      <td>0.101828</td>\n",
              "      <td>0.074419</td>\n",
              "    </tr>\n",
              "  </tbody>\n",
              "</table>\n",
              "</div>"
            ],
            "text/plain": [
              "              2.19      2.29      2.49      2.79      2.99\n",
              "p1_promo                                                  \n",
              "0         0.894495  0.894118  0.916256  0.898172  0.925581\n",
              "1         0.105505  0.105882  0.083744  0.101828  0.074419"
            ]
          },
          "metadata": {
            "tags": []
          },
          "execution_count": 10
        }
      ]
    },
    {
      "cell_type": "markdown",
      "metadata": {
        "id": "_-BefhmWoo0m"
      },
      "source": [
        "## Continuous Variables"
      ]
    },
    {
      "cell_type": "code",
      "metadata": {
        "colab": {
          "base_uri": "https://localhost:8080/",
          "height": 112
        },
        "id": "VckBOX8vo05g",
        "outputId": "bc57e42f-b02f-4601-be1a-7ba63545a876"
      },
      "source": [
        "#minimum value\n",
        "store_sales.p2_sales.min()\n",
        "#maximum value\n",
        "store_sales.p1_sales.max()\n",
        "#arithmetic mean\n",
        "store_sales.p1_promo.mean()\n",
        "#median\n",
        "store_sales.p2_sales.median()\n",
        "#variance around the mean\n",
        "store_sales.p1_sales.var()\n",
        "#standard deviation\n",
        "store_sales.p1_sales.std()\n",
        "#median absolute deviation (a robust variance estimator)\n",
        "store_sales.p1_sales.mad()\n",
        "#percentiles\n",
        "store_sales.p1_sales.quantile(q=[0.25, 0.5, 0.75])\n",
        "store_sales.p1_sales.quantile(q=np.arange(0, 1.1, 0.1))\n",
        "#interquartile range\n",
        "def iqr(x):\n",
        "  return x.quantile(0.75) - x.quantile(0.25)\n",
        "iqr(store_sales.p1_sales)  \n",
        "#IQR in a dataframe\n",
        "pd.DataFrame([[store_sales.p1_sales.median(), store_sales.p2_sales.median()], [iqr(store_sales.p1_sales), iqr(store_sales.p2_sales)]],index=['Median sales', 'IQR'], columns=['p1_sales', 'p2_sales'])"
      ],
      "execution_count": null,
      "outputs": [
        {
          "output_type": "execute_result",
          "data": {
            "text/html": [
              "<div>\n",
              "<style scoped>\n",
              "    .dataframe tbody tr th:only-of-type {\n",
              "        vertical-align: middle;\n",
              "    }\n",
              "\n",
              "    .dataframe tbody tr th {\n",
              "        vertical-align: top;\n",
              "    }\n",
              "\n",
              "    .dataframe thead th {\n",
              "        text-align: right;\n",
              "    }\n",
              "</style>\n",
              "<table border=\"1\" class=\"dataframe\">\n",
              "  <thead>\n",
              "    <tr style=\"text-align: right;\">\n",
              "      <th></th>\n",
              "      <th>p1_sales</th>\n",
              "      <th>p2_sales</th>\n",
              "    </tr>\n",
              "  </thead>\n",
              "  <tbody>\n",
              "    <tr>\n",
              "      <th>Median sales</th>\n",
              "      <td>130.0</td>\n",
              "      <td>97.0</td>\n",
              "    </tr>\n",
              "    <tr>\n",
              "      <th>IQR</th>\n",
              "      <td>40.0</td>\n",
              "      <td>32.0</td>\n",
              "    </tr>\n",
              "  </tbody>\n",
              "</table>\n",
              "</div>"
            ],
            "text/plain": [
              "              p1_sales  p2_sales\n",
              "Median sales     130.0      97.0\n",
              "IQR               40.0      32.0"
            ]
          },
          "metadata": {
            "tags": []
          },
          "execution_count": 11
        }
      ]
    },
    {
      "cell_type": "markdown",
      "metadata": {
        "id": "voCAAgG6q2df"
      },
      "source": [
        "#Summarizing Dataframes"
      ]
    },
    {
      "cell_type": "code",
      "metadata": {
        "colab": {
          "base_uri": "https://localhost:8080/",
          "height": 320
        },
        "id": "x1u11TQ-q602",
        "outputId": "1526c86f-4d03-44a5-e7ac-cc31ad09f0dc"
      },
      "source": [
        "store_sales.describe()"
      ],
      "execution_count": null,
      "outputs": [
        {
          "output_type": "execute_result",
          "data": {
            "text/html": [
              "<div>\n",
              "<style scoped>\n",
              "    .dataframe tbody tr th:only-of-type {\n",
              "        vertical-align: middle;\n",
              "    }\n",
              "\n",
              "    .dataframe tbody tr th {\n",
              "        vertical-align: top;\n",
              "    }\n",
              "\n",
              "    .dataframe thead th {\n",
              "        text-align: right;\n",
              "    }\n",
              "</style>\n",
              "<table border=\"1\" class=\"dataframe\">\n",
              "  <thead>\n",
              "    <tr style=\"text-align: right;\">\n",
              "      <th></th>\n",
              "      <th>store_num</th>\n",
              "      <th>year</th>\n",
              "      <th>week</th>\n",
              "      <th>p1_sales</th>\n",
              "      <th>p2_sales</th>\n",
              "      <th>p1_price</th>\n",
              "      <th>p2_price</th>\n",
              "      <th>p1_promo</th>\n",
              "      <th>p2_promo</th>\n",
              "    </tr>\n",
              "  </thead>\n",
              "  <tbody>\n",
              "    <tr>\n",
              "      <th>count</th>\n",
              "      <td>2080.000000</td>\n",
              "      <td>2080.00000</td>\n",
              "      <td>2080.00000</td>\n",
              "      <td>2080.000000</td>\n",
              "      <td>2080.000000</td>\n",
              "      <td>2080.000000</td>\n",
              "      <td>2080.000000</td>\n",
              "      <td>2080.000000</td>\n",
              "      <td>2080.000000</td>\n",
              "    </tr>\n",
              "    <tr>\n",
              "      <th>mean</th>\n",
              "      <td>110.500000</td>\n",
              "      <td>1.50000</td>\n",
              "      <td>26.50000</td>\n",
              "      <td>133.198558</td>\n",
              "      <td>100.757212</td>\n",
              "      <td>2.544856</td>\n",
              "      <td>2.713125</td>\n",
              "      <td>0.094231</td>\n",
              "      <td>0.152404</td>\n",
              "    </tr>\n",
              "    <tr>\n",
              "      <th>std</th>\n",
              "      <td>5.767668</td>\n",
              "      <td>0.50012</td>\n",
              "      <td>15.01194</td>\n",
              "      <td>29.658883</td>\n",
              "      <td>25.026570</td>\n",
              "      <td>0.303856</td>\n",
              "      <td>0.333086</td>\n",
              "      <td>0.292220</td>\n",
              "      <td>0.359498</td>\n",
              "    </tr>\n",
              "    <tr>\n",
              "      <th>min</th>\n",
              "      <td>101.000000</td>\n",
              "      <td>1.00000</td>\n",
              "      <td>1.00000</td>\n",
              "      <td>68.000000</td>\n",
              "      <td>54.000000</td>\n",
              "      <td>2.190000</td>\n",
              "      <td>2.290000</td>\n",
              "      <td>0.000000</td>\n",
              "      <td>0.000000</td>\n",
              "    </tr>\n",
              "    <tr>\n",
              "      <th>25%</th>\n",
              "      <td>105.750000</td>\n",
              "      <td>1.00000</td>\n",
              "      <td>13.75000</td>\n",
              "      <td>112.000000</td>\n",
              "      <td>83.000000</td>\n",
              "      <td>2.290000</td>\n",
              "      <td>2.490000</td>\n",
              "      <td>0.000000</td>\n",
              "      <td>0.000000</td>\n",
              "    </tr>\n",
              "    <tr>\n",
              "      <th>50%</th>\n",
              "      <td>110.500000</td>\n",
              "      <td>1.50000</td>\n",
              "      <td>26.50000</td>\n",
              "      <td>130.000000</td>\n",
              "      <td>97.000000</td>\n",
              "      <td>2.490000</td>\n",
              "      <td>2.590000</td>\n",
              "      <td>0.000000</td>\n",
              "      <td>0.000000</td>\n",
              "    </tr>\n",
              "    <tr>\n",
              "      <th>75%</th>\n",
              "      <td>115.250000</td>\n",
              "      <td>2.00000</td>\n",
              "      <td>39.25000</td>\n",
              "      <td>152.000000</td>\n",
              "      <td>115.000000</td>\n",
              "      <td>2.790000</td>\n",
              "      <td>2.990000</td>\n",
              "      <td>0.000000</td>\n",
              "      <td>0.000000</td>\n",
              "    </tr>\n",
              "    <tr>\n",
              "      <th>max</th>\n",
              "      <td>120.000000</td>\n",
              "      <td>2.00000</td>\n",
              "      <td>52.00000</td>\n",
              "      <td>277.000000</td>\n",
              "      <td>216.000000</td>\n",
              "      <td>2.990000</td>\n",
              "      <td>3.190000</td>\n",
              "      <td>1.000000</td>\n",
              "      <td>1.000000</td>\n",
              "    </tr>\n",
              "  </tbody>\n",
              "</table>\n",
              "</div>"
            ],
            "text/plain": [
              "         store_num        year  ...     p1_promo     p2_promo\n",
              "count  2080.000000  2080.00000  ...  2080.000000  2080.000000\n",
              "mean    110.500000     1.50000  ...     0.094231     0.152404\n",
              "std       5.767668     0.50012  ...     0.292220     0.359498\n",
              "min     101.000000     1.00000  ...     0.000000     0.000000\n",
              "25%     105.750000     1.00000  ...     0.000000     0.000000\n",
              "50%     110.500000     1.50000  ...     0.000000     0.000000\n",
              "75%     115.250000     2.00000  ...     0.000000     0.000000\n",
              "max     120.000000     2.00000  ...     1.000000     1.000000\n",
              "\n",
              "[8 rows x 9 columns]"
            ]
          },
          "metadata": {
            "tags": []
          },
          "execution_count": 12
        }
      ]
    },
    {
      "cell_type": "code",
      "metadata": {
        "colab": {
          "base_uri": "https://localhost:8080/"
        },
        "id": "EUZXU910RjvJ",
        "outputId": "bc1c6d05-d84a-48ea-e2aa-725671b0d1d7"
      },
      "source": [
        "store_sales.p1_price.describe()"
      ],
      "execution_count": null,
      "outputs": [
        {
          "output_type": "execute_result",
          "data": {
            "text/plain": [
              "count    2080.000000\n",
              "mean        2.544856\n",
              "std         0.303856\n",
              "min         2.190000\n",
              "25%         2.290000\n",
              "50%         2.490000\n",
              "75%         2.790000\n",
              "max         2.990000\n",
              "Name: p1_price, dtype: float64"
            ]
          },
          "metadata": {
            "tags": []
          },
          "execution_count": 13
        }
      ]
    }
  ]
}