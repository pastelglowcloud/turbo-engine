{
  "nbformat": 4,
  "nbformat_minor": 0,
  "metadata": {
    "colab": {
      "name": "student grade prediction",
      "provenance": [],
      "authorship_tag": "ABX9TyNuYNdrXOuvGa6ELZ4Z0DkD"
    },
    "kernelspec": {
      "name": "python3",
      "display_name": "Python 3"
    },
    "language_info": {
      "name": "python"
    }
  },
  "cells": [
    {
      "cell_type": "code",
      "metadata": {
        "id": "zEXZZtnbzLvi"
      },
      "source": [
        "import pandas as pd\n",
        "import numpy as np\n",
        "import sklearn\n",
        "from sklearn import linear_model\n",
        "from sklearn.utils import shuffle"
      ],
      "execution_count": null,
      "outputs": []
    },
    {
      "cell_type": "code",
      "metadata": {
        "id": "e-v6GwLa0jsR"
      },
      "source": [
        "data=pd.read_csv(\"student-mat.csv\", sep=\";\")\n",
        "data=data[[\"G1\",\"G2\",\"G3\",\"studytime\",\"absences\",\"failures\"]]"
      ],
      "execution_count": null,
      "outputs": []
    },
    {
      "cell_type": "code",
      "metadata": {
        "id": "Ay0sslkG1ye7"
      },
      "source": [
        "predict=\"G3\"\n",
        "x=np.array(data.drop([predict], 1))\n",
        "y=np.array(data[predict])"
      ],
      "execution_count": null,
      "outputs": []
    },
    {
      "cell_type": "code",
      "metadata": {
        "id": "cGMq9Oib2L0T"
      },
      "source": [
        "x_train, x_test, y_train, y_test = sklearn.model_selection.train_test_split(x,y,test_size=0.1)"
      ],
      "execution_count": null,
      "outputs": []
    },
    {
      "cell_type": "code",
      "metadata": {
        "colab": {
          "base_uri": "https://localhost:8080/"
        },
        "id": "5ha0Ad6Z3JGc",
        "outputId": "2613baac-d8db-4d00-a812-e6353e021108"
      },
      "source": [
        "linear = linear_model.LinearRegression()\n",
        "linear.fit(x_train,y_train)\n",
        "acc=linear.score(x_test,y_test)\n",
        "print (acc)"
      ],
      "execution_count": null,
      "outputs": [
        {
          "output_type": "stream",
          "text": [
            "0.8053434121561152\n"
          ],
          "name": "stdout"
        }
      ]
    },
    {
      "cell_type": "code",
      "metadata": {
        "colab": {
          "base_uri": "https://localhost:8080/"
        },
        "id": "gXCwx-AZ62Yb",
        "outputId": "8dc2305f-c508-4903-9d07-54469fe1c1f4"
      },
      "source": [
        "print(\"co:\", linear.coef_)\n",
        "print(\"intercept:\", linear.intercept_)"
      ],
      "execution_count": null,
      "outputs": [
        {
          "output_type": "stream",
          "text": [
            "co: [ 0.16323636  0.95858781 -0.14420144  0.03644523 -0.31947477]\n",
            "intercept: -1.4173316386338275\n"
          ],
          "name": "stdout"
        }
      ]
    },
    {
      "cell_type": "code",
      "metadata": {
        "id": "9EI9n5m-8KQT"
      },
      "source": [
        ""
      ],
      "execution_count": null,
      "outputs": []
    }
  ]
}